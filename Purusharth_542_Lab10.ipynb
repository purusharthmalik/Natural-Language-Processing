{
 "cells": [
  {
   "cell_type": "markdown",
   "id": "f6629380",
   "metadata": {},
   "source": [
    "# Lab - 10\n",
    "\n",
    "Name: Purusharth Malik\n",
    "    \n",
    "Registration No.: 2348542"
   ]
  },
  {
   "cell_type": "markdown",
   "id": "cb92c134",
   "metadata": {},
   "source": [
    "### Implement the Question answering system. [Give the context and question to the model and retrieve the right answer from the context. Utilize any of the traditional or modern NLP techniques to extract the answer. Sample Context and Question given below:]"
   ]
  },
  {
   "cell_type": "code",
   "execution_count": 2,
   "id": "18d9c1c7",
   "metadata": {},
   "outputs": [],
   "source": [
    "context = \"\"\"\n",
    "CHRIST (Deemed to be University) was born out of the educational\n",
    "vision of St Kuriakose Elias Chavara, an educationalist and social reformer of\n",
    "the nineteenth century in South India. He founded the first Catholic\n",
    "indigenous congregation, Carmelites of Mary Immaculate (CMI), in 1831\n",
    "which administers CHRIST (Deemed to be University). “CHRIST (Deemed to\n",
    "\n",
    "be University) was established as ‘Christ College’ in 1969. It undertook path-\n",
    "breaking initiatives in Indian higher education with the introduction of\n",
    "\n",
    "innovative and modern curricula, insistence on academic discipline,\n",
    "imparting of Holistic Education and adoption of global higher education\n",
    "practices with the support of creative and dedicated staff.”\n",
    "\"\"\"\n",
    "\n",
    "question = \"Which year CHRIST university established?\""
   ]
  },
  {
   "cell_type": "code",
   "execution_count": 4,
   "id": "6bb6e4a9",
   "metadata": {},
   "outputs": [
    {
     "name": "stdout",
     "output_type": "stream",
     "text": [
      "According to the passage, CHRIST (Deemed to be University) was established in 1969.\n"
     ]
    }
   ],
   "source": [
    "from transformers import pipeline, Conversation\n",
    "\n",
    "# For the conversation, we will be using Gemma-2B\n",
    "chatbot = pipeline(\"conversational\", model=\"google/gemma-2b-it\")\n",
    "\n",
    "# Initializing the conversation\n",
    "conv_1 = Conversation(context + question)\n",
    "overall_conversation = chatbot(conv_1)\n",
    "\n",
    "# Generating the output and printing it\n",
    "print(overall_conversation.messages[-1][\"content\"])"
   ]
  },
  {
   "cell_type": "markdown",
   "id": "b1b165f5",
   "metadata": {},
   "source": [
    "# End"
   ]
  }
 ],
 "metadata": {
  "kernelspec": {
   "display_name": "Python 3 (ipykernel)",
   "language": "python",
   "name": "python3"
  },
  "language_info": {
   "codemirror_mode": {
    "name": "ipython",
    "version": 3
   },
   "file_extension": ".py",
   "mimetype": "text/x-python",
   "name": "python",
   "nbconvert_exporter": "python",
   "pygments_lexer": "ipython3",
   "version": "3.11.3"
  }
 },
 "nbformat": 4,
 "nbformat_minor": 5
}
