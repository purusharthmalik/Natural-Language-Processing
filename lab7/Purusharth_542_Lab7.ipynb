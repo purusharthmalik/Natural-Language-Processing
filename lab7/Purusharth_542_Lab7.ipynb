{
 "cells": [
  {
   "cell_type": "markdown",
   "id": "bd2a6129",
   "metadata": {},
   "source": [
    "# Lab - 7\n",
    "\n",
    "Name: Purusharth Malik\n",
    "\n",
    "Registration No.: 2348542"
   ]
  },
  {
   "cell_type": "markdown",
   "id": "488f53c7",
   "metadata": {},
   "source": [
    "### 1. Find the similarity between two documents (2 corpus or two paragraphs) using any of the two similarity measures.\n",
    "\n",
    "- We will be using 2 random documents from the `brown` corpus available in `NLTK`.\n",
    "\n",
    "- For word embeddings, we will use `Word2Vec`.\n",
    "- For similarity measures, we will use `cosine similarity` and `jaccard similarity`."
   ]
  },
  {
   "cell_type": "code",
   "execution_count": 18,
   "id": "642d30e5",
   "metadata": {},
   "outputs": [
    {
     "name": "stdout",
     "output_type": "stream",
     "text": [
      "Similarity between documents: 0.9981935024261475\n"
     ]
    }
   ],
   "source": [
    "from nltk.corpus import brown\n",
    "from gensim.models import Word2Vec\n",
    "from sklearn.metrics.pairwise import cosine_similarity\n",
    "from nltk.tokenize import sent_tokenize, word_tokenize\n",
    "\n",
    "# Loading the two documents\n",
    "document1 = brown.raw('ca01')\n",
    "document2 = brown.raw('ca02')\n",
    "\n",
    "# Tokenize documents into sentences\n",
    "tokens1 = [word_tokenize(i.lower()) for i in sent_tokenize(document1)]\n",
    "tokens2 = [word_tokenize(i.lower()) for i in sent_tokenize(document2)]\n",
    "\n",
    "# Load pre-trained Word2Vec model\n",
    "model = Word2Vec(sentences=tokens1 + tokens2, vector_size=50000, window=5, min_count=1)\n",
    "\n",
    "# Get the average vector for each document\n",
    "document1_vec = sum([model.wv[word] for word in tokens1[0]]) / len(tokens1[0])\n",
    "document2_vec = sum([model.wv[word] for word in tokens2[0]]) / len(tokens2[0])\n",
    "\n",
    "# Calculate cosine similarity\n",
    "similarity = cosine_similarity(document1_vec.reshape(1, -1), document2_vec.reshape(1, -1))\n",
    "\n",
    "print(f\"Similarity between documents: {similarity[0][0]}\")"
   ]
  },
  {
   "cell_type": "code",
   "execution_count": 22,
   "id": "a5b8e1d4",
   "metadata": {},
   "outputs": [
    {
     "name": "stdout",
     "output_type": "stream",
     "text": [
      "Jaccard Similarity between documents: 0.17054263565891473\n"
     ]
    }
   ],
   "source": [
    "# Tokenize documents into sets of words (avoiding duplicates)\n",
    "tokens1 = set(word.lower() for sentence in sent_tokenize(document1) for word in word_tokenize(sentence))\n",
    "tokens2 = set(word.lower() for sentence in sent_tokenize(document2) for word in word_tokenize(sentence))\n",
    "\n",
    "# Intersection and Union for Jaccard Similarity\n",
    "intersection = len(tokens1.intersection(tokens2))\n",
    "union = len(tokens1.union(tokens2))\n",
    "\n",
    "# Jaccard Similarity calculation\n",
    "jaccard_similarity = intersection / union\n",
    "\n",
    "print(f\"Jaccard Similarity between documents: {jaccard_similarity}\")"
   ]
  },
  {
   "cell_type": "markdown",
   "id": "e830fcb6",
   "metadata": {},
   "source": [
    "### 2. Implement the Sentiment Analysis using Bayesian Classification."
   ]
  },
  {
   "cell_type": "code",
   "execution_count": null,
   "id": "2960e27f",
   "metadata": {},
   "outputs": [],
   "source": []
  }
 ],
 "metadata": {
  "kernelspec": {
   "display_name": "Python 3 (ipykernel)",
   "language": "python",
   "name": "python3"
  },
  "language_info": {
   "codemirror_mode": {
    "name": "ipython",
    "version": 3
   },
   "file_extension": ".py",
   "mimetype": "text/x-python",
   "name": "python",
   "nbconvert_exporter": "python",
   "pygments_lexer": "ipython3",
   "version": "3.11.3"
  }
 },
 "nbformat": 4,
 "nbformat_minor": 5
}
