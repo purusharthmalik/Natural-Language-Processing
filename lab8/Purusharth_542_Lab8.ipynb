{
 "cells": [
  {
   "cell_type": "markdown",
   "id": "d4457320",
   "metadata": {},
   "source": [
    "# Lab - 8\n",
    "\n",
    "Name: Purusharth Malik\n",
    "\n",
    "Registration No.: 2348542"
   ]
  },
  {
   "cell_type": "markdown",
   "id": "89316d33-e18f-4cf7-9262-63b6b38d7f8e",
   "metadata": {},
   "source": [
    "### 1. Implement the Weather Prediction using RNN and LSTM."
   ]
  },
  {
   "cell_type": "markdown",
   "id": "cbb88be4-c5c0-4b3f-948d-0b30afb22b0e",
   "metadata": {},
   "source": [
    "#### Loading the data"
   ]
  },
  {
   "cell_type": "code",
   "execution_count": 2,
   "id": "a8e634d0-e03b-4250-b148-18bbf507ec26",
   "metadata": {},
   "outputs": [
    {
     "data": {
      "text/html": [
       "<div>\n",
       "<style scoped>\n",
       "    .dataframe tbody tr th:only-of-type {\n",
       "        vertical-align: middle;\n",
       "    }\n",
       "\n",
       "    .dataframe tbody tr th {\n",
       "        vertical-align: top;\n",
       "    }\n",
       "\n",
       "    .dataframe thead th {\n",
       "        text-align: right;\n",
       "    }\n",
       "</style>\n",
       "<table border=\"1\" class=\"dataframe\">\n",
       "  <thead>\n",
       "    <tr style=\"text-align: right;\">\n",
       "      <th></th>\n",
       "      <th>date</th>\n",
       "      <th>precipitation</th>\n",
       "      <th>temp_max</th>\n",
       "      <th>temp_min</th>\n",
       "      <th>wind</th>\n",
       "      <th>weather</th>\n",
       "    </tr>\n",
       "  </thead>\n",
       "  <tbody>\n",
       "    <tr>\n",
       "      <th>0</th>\n",
       "      <td>2012-01-01</td>\n",
       "      <td>0.0</td>\n",
       "      <td>12.8</td>\n",
       "      <td>5.0</td>\n",
       "      <td>4.7</td>\n",
       "      <td>drizzle</td>\n",
       "    </tr>\n",
       "    <tr>\n",
       "      <th>1</th>\n",
       "      <td>2012-01-02</td>\n",
       "      <td>10.9</td>\n",
       "      <td>10.6</td>\n",
       "      <td>2.8</td>\n",
       "      <td>4.5</td>\n",
       "      <td>rain</td>\n",
       "    </tr>\n",
       "    <tr>\n",
       "      <th>2</th>\n",
       "      <td>2012-01-03</td>\n",
       "      <td>0.8</td>\n",
       "      <td>11.7</td>\n",
       "      <td>7.2</td>\n",
       "      <td>2.3</td>\n",
       "      <td>rain</td>\n",
       "    </tr>\n",
       "    <tr>\n",
       "      <th>3</th>\n",
       "      <td>2012-01-04</td>\n",
       "      <td>20.3</td>\n",
       "      <td>12.2</td>\n",
       "      <td>5.6</td>\n",
       "      <td>4.7</td>\n",
       "      <td>rain</td>\n",
       "    </tr>\n",
       "    <tr>\n",
       "      <th>4</th>\n",
       "      <td>2012-01-05</td>\n",
       "      <td>1.3</td>\n",
       "      <td>8.9</td>\n",
       "      <td>2.8</td>\n",
       "      <td>6.1</td>\n",
       "      <td>rain</td>\n",
       "    </tr>\n",
       "  </tbody>\n",
       "</table>\n",
       "</div>"
      ],
      "text/plain": [
       "         date  precipitation  temp_max  temp_min  wind  weather\n",
       "0  2012-01-01            0.0      12.8       5.0   4.7  drizzle\n",
       "1  2012-01-02           10.9      10.6       2.8   4.5     rain\n",
       "2  2012-01-03            0.8      11.7       7.2   2.3     rain\n",
       "3  2012-01-04           20.3      12.2       5.6   4.7     rain\n",
       "4  2012-01-05            1.3       8.9       2.8   6.1     rain"
      ]
     },
     "execution_count": 2,
     "metadata": {},
     "output_type": "execute_result"
    }
   ],
   "source": [
    "import pandas as pd\n",
    "data=pd.read_csv('austin-weather.csv')\n",
    "data.head()"
   ]
  },
  {
   "cell_type": "markdown",
   "id": "7b059196-8f8c-4ffe-a9bc-c2ec8d588b82",
   "metadata": {},
   "source": [
    "#### Preprocessing"
   ]
  },
  {
   "cell_type": "code",
   "execution_count": 3,
   "id": "c0f7bb60-8a49-447f-a80b-2cee4607a3f5",
   "metadata": {},
   "outputs": [
    {
     "data": {
      "text/html": [
       "<div>\n",
       "<style scoped>\n",
       "    .dataframe tbody tr th:only-of-type {\n",
       "        vertical-align: middle;\n",
       "    }\n",
       "\n",
       "    .dataframe tbody tr th {\n",
       "        vertical-align: top;\n",
       "    }\n",
       "\n",
       "    .dataframe thead th {\n",
       "        text-align: right;\n",
       "    }\n",
       "</style>\n",
       "<table border=\"1\" class=\"dataframe\">\n",
       "  <thead>\n",
       "    <tr style=\"text-align: right;\">\n",
       "      <th></th>\n",
       "      <th>precipitation</th>\n",
       "      <th>temp_max</th>\n",
       "      <th>temp_min</th>\n",
       "      <th>wind</th>\n",
       "      <th>weather</th>\n",
       "    </tr>\n",
       "  </thead>\n",
       "  <tbody>\n",
       "    <tr>\n",
       "      <th>0</th>\n",
       "      <td>-0.503221</td>\n",
       "      <td>-0.540252</td>\n",
       "      <td>-0.679922</td>\n",
       "      <td>1.265942</td>\n",
       "      <td>drizzle</td>\n",
       "    </tr>\n",
       "    <tr>\n",
       "      <th>1</th>\n",
       "      <td>2.239635</td>\n",
       "      <td>-0.840696</td>\n",
       "      <td>-1.123174</td>\n",
       "      <td>1.108110</td>\n",
       "      <td>rain</td>\n",
       "    </tr>\n",
       "    <tr>\n",
       "      <th>2</th>\n",
       "      <td>-0.301911</td>\n",
       "      <td>-0.690474</td>\n",
       "      <td>-0.236670</td>\n",
       "      <td>-0.628046</td>\n",
       "      <td>rain</td>\n",
       "    </tr>\n",
       "    <tr>\n",
       "      <th>4</th>\n",
       "      <td>-0.176092</td>\n",
       "      <td>-1.072858</td>\n",
       "      <td>-1.123174</td>\n",
       "      <td>2.370769</td>\n",
       "      <td>rain</td>\n",
       "    </tr>\n",
       "    <tr>\n",
       "      <th>5</th>\n",
       "      <td>0.125874</td>\n",
       "      <td>-1.687403</td>\n",
       "      <td>-1.244060</td>\n",
       "      <td>-0.706962</td>\n",
       "      <td>rain</td>\n",
       "    </tr>\n",
       "  </tbody>\n",
       "</table>\n",
       "</div>"
      ],
      "text/plain": [
       "   precipitation  temp_max  temp_min      wind  weather\n",
       "0      -0.503221 -0.540252 -0.679922  1.265942  drizzle\n",
       "1       2.239635 -0.840696 -1.123174  1.108110     rain\n",
       "2      -0.301911 -0.690474 -0.236670 -0.628046     rain\n",
       "4      -0.176092 -1.072858 -1.123174  2.370769     rain\n",
       "5       0.125874 -1.687403 -1.244060 -0.706962     rain"
      ]
     },
     "execution_count": 3,
     "metadata": {},
     "output_type": "execute_result"
    }
   ],
   "source": [
    "import numpy as np\n",
    "import scipy.stats as stats\n",
    "def drop_outlier(data,col_name):\n",
    "    z= np.abs(stats.zscore(col_name))\n",
    "    data.drop(data.index[np.where(abs(z)>2.5)],inplace=True)\n",
    "drop_outlier(data,data['precipitation'])\n",
    "drop_outlier(data,data['temp_max'])\n",
    "drop_outlier(data,data['temp_min'])\n",
    "drop_outlier(data,data['wind'])\n",
    "data=data.drop(columns='date')\n",
    "from sklearn.preprocessing import StandardScaler\n",
    "sc=StandardScaler()\n",
    "for i in data.drop(columns='weather').columns:\n",
    "    data[i]=sc.fit_transform(data[[i]])\n",
    "data.head()"
   ]
  },
  {
   "cell_type": "markdown",
   "id": "21951838-afaa-4dd4-8d9b-b9c70210500d",
   "metadata": {},
   "source": [
    "#### Splitting the dataset"
   ]
  },
  {
   "cell_type": "code",
   "execution_count": 5,
   "id": "4d2ea2ad-9029-441f-8760-941374647e8f",
   "metadata": {},
   "outputs": [],
   "source": [
    "X=data.drop(columns='weather')\n",
    "from sklearn.preprocessing import LabelEncoder\n",
    "le=LabelEncoder()\n",
    "Y=le.fit_transform(data['weather'])\n",
    "from tensorflow.keras.utils import to_categorical\n",
    "Y= to_categorical(Y)\n",
    "from sklearn.model_selection import train_test_split\n",
    "X_train,X_val,Y_train,Y_val=train_test_split(X,Y,stratify=Y,test_size=0.2)"
   ]
  },
  {
   "cell_type": "markdown",
   "id": "27952a8c-2ba7-46a1-97df-89a7ff91f441",
   "metadata": {},
   "source": [
    "#### LSTM model"
   ]
  },
  {
   "cell_type": "code",
   "execution_count": 24,
   "id": "14031ea4-00f3-4038-8b8a-66b12544cd63",
   "metadata": {},
   "outputs": [],
   "source": [
    "from tensorflow.keras.layers import LSTM, Dense, Embedding, Dropout, Input\n",
    "from tensorflow.keras.models import Sequential\n",
    "model=Sequential()\n",
    "model.add(Input(shape=(X_train.shape[1],1)))\n",
    "model.add(LSTM(32, activation='relu',return_sequences=True))\n",
    "model.add(Dropout(0.2))\n",
    "model.add(LSTM(64, activation='relu',return_sequences=True))\n",
    "model.add(Dropout(0.2))\n",
    "model.add(LSTM(128, activation='relu'))\n",
    "model.add(Dropout(0.2))\n",
    "model.add(Dense(5, activation='softmax'))"
   ]
  },
  {
   "cell_type": "code",
   "execution_count": 25,
   "id": "c5e89bef-a588-4ef5-8ee2-a888be8ca284",
   "metadata": {},
   "outputs": [],
   "source": [
    "model.compile(loss='categorical_crossentropy', metrics=['accuracy'], optimizer='adam')"
   ]
  },
  {
   "cell_type": "code",
   "execution_count": 26,
   "id": "b887a8c2-28c7-44ce-9972-0a5012638c6a",
   "metadata": {},
   "outputs": [
    {
     "name": "stdout",
     "output_type": "stream",
     "text": [
      "Model: \"sequential_5\"\n",
      "_________________________________________________________________\n",
      " Layer (type)                Output Shape              Param #   \n",
      "=================================================================\n",
      " lstm_10 (LSTM)              (None, 4, 32)             4352      \n",
      "                                                                 \n",
      " dropout_8 (Dropout)         (None, 4, 32)             0         \n",
      "                                                                 \n",
      " lstm_11 (LSTM)              (None, 4, 64)             24832     \n",
      "                                                                 \n",
      " dropout_9 (Dropout)         (None, 4, 64)             0         \n",
      "                                                                 \n",
      " lstm_12 (LSTM)              (None, 128)               98816     \n",
      "                                                                 \n",
      " dropout_10 (Dropout)        (None, 128)               0         \n",
      "                                                                 \n",
      " dense_2 (Dense)             (None, 5)                 645       \n",
      "                                                                 \n",
      "=================================================================\n",
      "Total params: 128645 (502.52 KB)\n",
      "Trainable params: 128645 (502.52 KB)\n",
      "Non-trainable params: 0 (0.00 Byte)\n",
      "_________________________________________________________________\n"
     ]
    }
   ],
   "source": [
    "model.summary()"
   ]
  },
  {
   "cell_type": "code",
   "execution_count": 28,
   "id": "b2de3b6a-219d-4617-a6e1-8ae02dd79ba8",
   "metadata": {},
   "outputs": [
    {
     "name": "stdout",
     "output_type": "stream",
     "text": [
      "Epoch 1/50\n",
      "35/35 [==============================] - 0s 7ms/step - loss: 0.6560 - accuracy: 0.7874 - val_loss: 0.6085 - val_accuracy: 0.8102\n",
      "Epoch 2/50\n",
      "35/35 [==============================] - 0s 6ms/step - loss: 0.6282 - accuracy: 0.8002 - val_loss: 0.6070 - val_accuracy: 0.8285\n",
      "Epoch 3/50\n",
      "35/35 [==============================] - 0s 6ms/step - loss: 0.6282 - accuracy: 0.7965 - val_loss: 0.6322 - val_accuracy: 0.7956\n",
      "Epoch 4/50\n",
      "35/35 [==============================] - 0s 6ms/step - loss: 0.6052 - accuracy: 0.8102 - val_loss: 0.5661 - val_accuracy: 0.8285\n",
      "Epoch 5/50\n",
      "35/35 [==============================] - 0s 6ms/step - loss: 0.5950 - accuracy: 0.8175 - val_loss: 0.5764 - val_accuracy: 0.8248\n",
      "Epoch 6/50\n",
      "35/35 [==============================] - 0s 6ms/step - loss: 0.5892 - accuracy: 0.8130 - val_loss: 0.5657 - val_accuracy: 0.8285\n",
      "Epoch 7/50\n",
      "35/35 [==============================] - 0s 6ms/step - loss: 0.5773 - accuracy: 0.8139 - val_loss: 0.5622 - val_accuracy: 0.8285\n",
      "Epoch 8/50\n",
      "35/35 [==============================] - 0s 6ms/step - loss: 0.5757 - accuracy: 0.8148 - val_loss: 0.5355 - val_accuracy: 0.8285\n",
      "Epoch 9/50\n",
      "35/35 [==============================] - 0s 6ms/step - loss: 0.5699 - accuracy: 0.8239 - val_loss: 0.5369 - val_accuracy: 0.8285\n",
      "Epoch 10/50\n",
      "35/35 [==============================] - 0s 6ms/step - loss: 0.5389 - accuracy: 0.8294 - val_loss: 0.5352 - val_accuracy: 0.8285\n",
      "Epoch 11/50\n",
      "35/35 [==============================] - 0s 6ms/step - loss: 0.5378 - accuracy: 0.8294 - val_loss: 0.5565 - val_accuracy: 0.8285\n",
      "Epoch 12/50\n",
      "35/35 [==============================] - 0s 7ms/step - loss: 0.5425 - accuracy: 0.8376 - val_loss: 0.5399 - val_accuracy: 0.8248\n",
      "Epoch 13/50\n",
      "35/35 [==============================] - 0s 6ms/step - loss: 0.5253 - accuracy: 0.8349 - val_loss: 0.5702 - val_accuracy: 0.8212\n",
      "Epoch 14/50\n",
      "35/35 [==============================] - 0s 6ms/step - loss: 0.5287 - accuracy: 0.8376 - val_loss: 0.5219 - val_accuracy: 0.8321\n",
      "Epoch 15/50\n",
      "35/35 [==============================] - 0s 6ms/step - loss: 0.5236 - accuracy: 0.8403 - val_loss: 0.5238 - val_accuracy: 0.8321\n",
      "Epoch 16/50\n",
      "35/35 [==============================] - 0s 6ms/step - loss: 0.5208 - accuracy: 0.8376 - val_loss: 0.5204 - val_accuracy: 0.8321\n",
      "Epoch 17/50\n",
      "35/35 [==============================] - 0s 7ms/step - loss: 0.5193 - accuracy: 0.8394 - val_loss: 0.5245 - val_accuracy: 0.8321\n",
      "Epoch 18/50\n",
      "35/35 [==============================] - 0s 6ms/step - loss: 0.5116 - accuracy: 0.8412 - val_loss: 0.5285 - val_accuracy: 0.8321\n",
      "Epoch 19/50\n",
      "35/35 [==============================] - 0s 6ms/step - loss: 0.5075 - accuracy: 0.8431 - val_loss: 0.5252 - val_accuracy: 0.8321\n",
      "Epoch 20/50\n",
      "35/35 [==============================] - 0s 6ms/step - loss: 0.5038 - accuracy: 0.8422 - val_loss: 0.5181 - val_accuracy: 0.8321\n",
      "Epoch 21/50\n",
      "35/35 [==============================] - 0s 6ms/step - loss: 0.5083 - accuracy: 0.8431 - val_loss: 0.5166 - val_accuracy: 0.8358\n",
      "Epoch 22/50\n",
      "35/35 [==============================] - 0s 6ms/step - loss: 0.5159 - accuracy: 0.8422 - val_loss: 0.5196 - val_accuracy: 0.8321\n",
      "Epoch 23/50\n",
      "35/35 [==============================] - 0s 6ms/step - loss: 0.5075 - accuracy: 0.8440 - val_loss: 0.5153 - val_accuracy: 0.8321\n",
      "Epoch 24/50\n",
      "35/35 [==============================] - 0s 6ms/step - loss: 0.5054 - accuracy: 0.8449 - val_loss: 0.5224 - val_accuracy: 0.8321\n",
      "Epoch 25/50\n",
      "35/35 [==============================] - 0s 7ms/step - loss: 0.5076 - accuracy: 0.8394 - val_loss: 0.5296 - val_accuracy: 0.8321\n",
      "Epoch 26/50\n",
      "35/35 [==============================] - 0s 6ms/step - loss: 0.5179 - accuracy: 0.8440 - val_loss: 0.5159 - val_accuracy: 0.8321\n",
      "Epoch 27/50\n",
      "35/35 [==============================] - 0s 6ms/step - loss: 0.5057 - accuracy: 0.8412 - val_loss: 0.5175 - val_accuracy: 0.8358\n",
      "Epoch 28/50\n",
      "35/35 [==============================] - 0s 7ms/step - loss: 0.5041 - accuracy: 0.8431 - val_loss: 0.5085 - val_accuracy: 0.8321\n",
      "Epoch 29/50\n",
      "35/35 [==============================] - 0s 6ms/step - loss: 0.4993 - accuracy: 0.8458 - val_loss: 0.5066 - val_accuracy: 0.8321\n",
      "Epoch 30/50\n",
      "35/35 [==============================] - 0s 6ms/step - loss: 0.4964 - accuracy: 0.8458 - val_loss: 0.5187 - val_accuracy: 0.8358\n",
      "Epoch 31/50\n",
      "35/35 [==============================] - 0s 6ms/step - loss: 0.4972 - accuracy: 0.8440 - val_loss: 0.5105 - val_accuracy: 0.8321\n",
      "Epoch 32/50\n",
      "35/35 [==============================] - 0s 6ms/step - loss: 0.5042 - accuracy: 0.8431 - val_loss: 0.5092 - val_accuracy: 0.8358\n",
      "Epoch 33/50\n",
      "35/35 [==============================] - 0s 6ms/step - loss: 0.5001 - accuracy: 0.8440 - val_loss: 0.5103 - val_accuracy: 0.8321\n",
      "Epoch 34/50\n",
      "35/35 [==============================] - 0s 6ms/step - loss: 0.4912 - accuracy: 0.8458 - val_loss: 0.5051 - val_accuracy: 0.8358\n",
      "Epoch 35/50\n",
      "35/35 [==============================] - 0s 6ms/step - loss: 0.4898 - accuracy: 0.8449 - val_loss: 0.5106 - val_accuracy: 0.8358\n",
      "Epoch 36/50\n",
      "35/35 [==============================] - 0s 6ms/step - loss: 0.5047 - accuracy: 0.8422 - val_loss: 0.5103 - val_accuracy: 0.8321\n",
      "Epoch 37/50\n",
      "35/35 [==============================] - 0s 7ms/step - loss: 0.4973 - accuracy: 0.8440 - val_loss: 0.5065 - val_accuracy: 0.8321\n",
      "Epoch 38/50\n",
      "35/35 [==============================] - 0s 6ms/step - loss: 0.5013 - accuracy: 0.8431 - val_loss: 0.5040 - val_accuracy: 0.8321\n",
      "Epoch 39/50\n",
      "35/35 [==============================] - 0s 6ms/step - loss: 0.4952 - accuracy: 0.8476 - val_loss: 0.5106 - val_accuracy: 0.8321\n",
      "Epoch 40/50\n",
      "35/35 [==============================] - 0s 6ms/step - loss: 0.4952 - accuracy: 0.8467 - val_loss: 0.5060 - val_accuracy: 0.8321\n",
      "Epoch 41/50\n",
      "35/35 [==============================] - 0s 7ms/step - loss: 0.4944 - accuracy: 0.8458 - val_loss: 0.5003 - val_accuracy: 0.8358\n",
      "Epoch 42/50\n",
      "35/35 [==============================] - 0s 6ms/step - loss: 0.4953 - accuracy: 0.8440 - val_loss: 0.5141 - val_accuracy: 0.8321\n",
      "Epoch 43/50\n",
      "35/35 [==============================] - 0s 6ms/step - loss: 0.4890 - accuracy: 0.8458 - val_loss: 0.5070 - val_accuracy: 0.8358\n",
      "Epoch 44/50\n",
      "35/35 [==============================] - 0s 6ms/step - loss: 0.4975 - accuracy: 0.8440 - val_loss: 0.5109 - val_accuracy: 0.8358\n",
      "Epoch 45/50\n",
      "35/35 [==============================] - 0s 6ms/step - loss: 0.4938 - accuracy: 0.8458 - val_loss: 0.5031 - val_accuracy: 0.8358\n",
      "Epoch 46/50\n",
      "35/35 [==============================] - 0s 6ms/step - loss: 0.4951 - accuracy: 0.8458 - val_loss: 0.4984 - val_accuracy: 0.8358\n",
      "Epoch 47/50\n",
      "35/35 [==============================] - 0s 6ms/step - loss: 0.4950 - accuracy: 0.8458 - val_loss: 0.5023 - val_accuracy: 0.8358\n",
      "Epoch 48/50\n",
      "35/35 [==============================] - 0s 7ms/step - loss: 0.4935 - accuracy: 0.8422 - val_loss: 0.5065 - val_accuracy: 0.8321\n",
      "Epoch 49/50\n",
      "35/35 [==============================] - 0s 6ms/step - loss: 0.5017 - accuracy: 0.8403 - val_loss: 0.5045 - val_accuracy: 0.8358\n",
      "Epoch 50/50\n",
      "35/35 [==============================] - 0s 6ms/step - loss: 0.4931 - accuracy: 0.8422 - val_loss: 0.4997 - val_accuracy: 0.8358\n"
     ]
    }
   ],
   "source": [
    "history=model.fit(X_train, Y_train, batch_size=32, epochs=50,validation_data=(X_val, Y_val))"
   ]
  },
  {
   "cell_type": "code",
   "execution_count": 31,
   "id": "8efb0302-9d4d-4e88-8124-c111683cf6b4",
   "metadata": {},
   "outputs": [
    {
     "data": {
      "image/png": "[encoded data removed]",
      "text/plain": [
       "<Figure size 800x800 with 2 Axes>"
      ]
     },
     "metadata": {},
     "output_type": "display_data"
    }
   ],
   "source": [
    "import matplotlib.pyplot as plt\n",
    "acc = history.history['accuracy']\n",
    "val_acc = history.history['val_accuracy']\n",
    "\n",
    "loss = history.history['loss']\n",
    "val_loss = history.history['val_loss']\n",
    "\n",
    "epochs_range = range(50)\n",
    "\n",
    "plt.figure(figsize=(8, 8))\n",
    "plt.subplot(1, 2, 1)\n",
    "plt.plot(epochs_range, acc, label='Training Accuracy')\n",
    "plt.plot(epochs_range, val_acc, label='Validation Accuracy')\n",
    "plt.legend(loc='lower right')\n",
    "plt.title('Training and Validation Accuracy')\n",
    "\n",
    "plt.subplot(1, 2, 2)\n",
    "plt.plot(epochs_range, loss, label='Training Loss')\n",
    "plt.plot(epochs_range, val_loss, label='Validation Loss')\n",
    "plt.legend(loc='upper right')\n",
    "plt.title('Training and Validation Loss')\n",
    "plt.show()"
   ]
  },
  {
   "cell_type": "markdown",
   "id": "b048e81b-dbcd-4095-ac70-067643cd04d2",
   "metadata": {},
   "source": [
    "### 2. Implement the Machine Translation using code or any tool.\n",
    "\n",
    "We will use google translator to translate German text to English."
   ]
  },
  {
   "cell_type": "code",
   "execution_count": 13,
   "id": "04f895cd-f65d-40de-abcc-5e67ef7e564f",
   "metadata": {},
   "outputs": [
    {
     "data": {
      "text/plain": [
       "'Good day'"
      ]
     },
     "execution_count": 13,
     "metadata": {},
     "output_type": "execute_result"
    }
   ],
   "source": [
    "from deep_translator import GoogleTranslator\n",
    "\n",
    "GoogleTranslator(source='auto', target='en').translate(\"guten Tag\")"
   ]
  },
  {
   "cell_type": "markdown",
   "id": "69bd79c0",
   "metadata": {},
   "source": [
    "# End"
   ]
  }
 ],
 "metadata": {
  "kernelspec": {
   "display_name": "Python 3 (ipykernel)",
   "language": "python",
   "name": "python3"
  },
  "language_info": {
   "codemirror_mode": {
    "name": "ipython",
    "version": 3
   },
   "file_extension": ".py",
   "mimetype": "text/x-python",
   "name": "python",
   "nbconvert_exporter": "python",
   "pygments_lexer": "ipython3",
   "version": "3.11.3"
  }
 },
 "nbformat": 4,
 "nbformat_minor": 5
}
